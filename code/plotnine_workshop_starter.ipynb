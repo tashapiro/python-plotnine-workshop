{
  "nbformat": 4,
  "nbformat_minor": 0,
  "metadata": {
    "colab": {
      "provenance": [],
      "collapsed_sections": [
        "jfU88TCqhOgS"
      ]
    },
    "kernelspec": {
      "name": "python3",
      "display_name": "Python 3"
    },
    "language_info": {
      "name": "python"
    }
  },
  "cells": [
    {
      "cell_type": "markdown",
      "source": [
        "<p align=\"center\">\n",
        "  <img src=\"https://www.meetup.com/_next/image/?url=https%3A%2F%2Fsecure-content.meetupstatic.com%2Fimages%2Fclassic-events%2F506743465%2F676x380.webp&w=2048&q=75\" alt=\"Plotnine Workshop\"/>\n",
        "</p>\n",
        "\n",
        "<center><h1>Plotnine Workshop</h1></center>\n",
        "<center><h6>This workshop is brought to you by R-Ladies (Cologne, Paris) and PyLadies (Tunis, Munich). Workshop content created by Tanya Shapiro. </h6></center>\n",
        "\n",
        "---\n",
        "\n",
        "**Agenda**\n",
        "\n",
        "In today's workshop, we'll explore how to create and style plots using **plotnine** in Python. This workbook is divided into 5 sections:\n",
        "\n",
        "1. Set-Up \n",
        "2. Data Prep\n",
        "3. Plot 1: Bar\n",
        "4. Plot 2: Scatter\n",
        "5. Plot 3: Density & Facetting\n",
        "\n",
        "**About The Data** \n",
        "\n",
        "The dataset we'll be using comes from the **[TidyTuesday](https://github.com/rfordatascience/tidytuesday)** community. The data is sourced from the [**Open-Source Psychometrics Project**](https://openpsychometrics.org/) and contains personality assessments of different characters in pop culture (e.g. characters from Friends, Westworld, Marvel, etc).\n",
        "\n"
      ],
      "metadata": {
        "id": "iqRP26frj-9l"
      }
    },
    {
      "cell_type": "markdown",
      "source": [
        "#1. Set Up\n",
        "---\n",
        "\n",
        "## 1.1. Download & Import Packages\n",
        "We will use the following packages listed below. If you do not have them currently installed, run the segment of code with `!pip install` to download them."
      ],
      "metadata": {
        "id": "3sHRKNGhdIsd"
      }
    },
    {
      "cell_type": "code",
      "source": [
        "#install packages\n",
        "!pip install pandas\n",
        "!pip install numpy \n",
        "!pip install plotnine\n",
        "!pip install matplotlib"
      ],
      "metadata": {
        "id": "slKnJ25qqRp0"
      },
      "execution_count": null,
      "outputs": []
    },
    {
      "cell_type": "code",
      "execution_count": null,
      "metadata": {
        "id": "i4dSPIGach-S"
      },
      "outputs": [],
      "source": [
        "#for data wrangling\n",
        "import pandas as pd\n",
        "import numpy as np\n",
        "#for plotting \n",
        "from plotnine import *\n",
        "#to add different fonts\n",
        "from matplotlib import font_manager as fm"
      ]
    },
    {
      "cell_type": "markdown",
      "source": [
        "##1.2. Downloading Fonts\n",
        "\n",
        "\n",
        "To change out our fonts, we will use `matplotlib.font_manager` to add font libraries we can use later for our plots. Since we are working in Google Colab and not our local directory, we'll download and then add them. Font files are downloaded directly from **[Google's GitHub](https://github.com/google/fonts)**.\n",
        "\n",
        "The following trick was used from a [StackOverflow post](https://stackoverflow.com/questions/51810908/custom-fonts-in-google-colaboratory-matplotlib-charts).\n",
        "\n",
        "If you work in Jupyter Notebook files, you can use a similar method to add fonts from your local directory."
      ],
      "metadata": {
        "id": "1hPh73Gqij5l"
      }
    },
    {
      "cell_type": "code",
      "source": [
        "!wget 'https://github.com/google/fonts/raw/main/ofl/chivo/Chivo-Regular.ttf'\n",
        "!wget 'https://github.com/google/fonts/raw/main/ofl/chivo/Chivo-Bold.ttf'\n",
        "!wget 'https://github.com/google/fonts/raw/main/ofl/chivo/Chivo-Light.ttf'"
      ],
      "metadata": {
        "id": "7zXQs0Py81gT"
      },
      "execution_count": null,
      "outputs": []
    },
    {
      "cell_type": "code",
      "source": [
        "font_files = fm.findSystemFonts('.')\n",
        "\n",
        "# Go through and add each to Matplotlib's font cache.\n",
        "for font_file in font_files:\n",
        "  print(font_file)\n",
        "  fm.fontManager.addfont(font_file)"
      ],
      "metadata": {
        "id": "lNzSDHml4Z6x"
      },
      "execution_count": null,
      "outputs": []
    },
    {
      "cell_type": "markdown",
      "source": [
        "#2. Data Prep\n",
        "---\n",
        "\n",
        "##2.1. Read & Explore\n",
        "We'll use **[pandas](https://pandas.pydata.org/docs/getting_started/index.html)** to read our csv data file and reshape it to make sure it's ready for plotting. For R users, think of pandas as dplyr, with this tool we can filter, slice, subset, and merge dataframe objects."
      ],
      "metadata": {
        "id": "ftdFlHfplros"
      }
    },
    {
      "cell_type": "code",
      "source": [
        "df = pd.read_csv('https://raw.githubusercontent.com/tashapiro/open-psychometrics/main/data/psych_stats.csv')\n",
        "#get first 5 records to preview - alternatively, we can use .tail() for last records or .sample() for random record sampling\n",
        "df.head(5)"
      ],
      "metadata": {
        "id": "lm1Qu6uieBX-"
      },
      "execution_count": null,
      "outputs": []
    },
    {
      "cell_type": "markdown",
      "source": [
        "Other pandas functions to explore our dataframe include:"
      ],
      "metadata": {
        "id": "cRzTv70OpbIg"
      }
    },
    {
      "cell_type": "code",
      "source": [
        "#how many rows and columns?\n",
        "#df.shape\n",
        "\n",
        "#overview by column: non-null count & data types\n",
        "#df.info()\n",
        "\n",
        "#get descriptive statistics for numeric cols - mean, std, min, quartiles, max\n",
        "df.describe()"
      ],
      "metadata": {
        "id": "rL9FZxBmoVK5"
      },
      "execution_count": null,
      "outputs": []
    },
    {
      "cell_type": "markdown",
      "source": [
        "## 2.2. Clean & Reshape Data\n",
        "\n",
        "Before we can plot our data, we'll need to clean up our data.\n",
        "\n",
        "*   Subset our data to focus on a few characteristics\n",
        "*   Adjust the `avg_rating` so it's scale 0 to 100\n",
        "*   Pivot our data so characteristic ratings are stored as columns\n",
        "\n",
        "### 2.2.1. Subsetting Data"
      ],
      "metadata": {
        "id": "E5hw4AhXp5hk"
      }
    },
    {
      "cell_type": "code",
      "source": [
        "#create list of questions to focus on, there are ~400 to choose from!\n",
        "questions = ['optimistic/pessimistic','bold/shy','diligent/lazy','messy/neat','dunce/genius','altruistic/selfish',\n",
        "             'foolish/wise','dominant/submissive','cunning/honorable']\n",
        "\n",
        "#create a subset of the dataframe - only include assessments within our question list. only include char_name, uni_name, question, personality, and avg_rating\n",
        "subset = df[df['question'].isin(questions)]\n",
        "subset = subset[['char_name','uni_name','question','personality','avg_rating']]\n",
        "\n",
        "subset.head(7)"
      ],
      "metadata": {
        "id": "LGgiicPap4xI"
      },
      "execution_count": null,
      "outputs": []
    },
    {
      "cell_type": "markdown",
      "source": [
        "###2.2.2. Cleaning Up Data"
      ],
      "metadata": {
        "id": "RWneR_wevlYF"
      }
    },
    {
      "cell_type": "code",
      "source": [
        "subset[subset.question=='messy/neat'].head(6)"
      ],
      "metadata": {
        "id": "XT-hQrz1u6Op"
      },
      "execution_count": null,
      "outputs": []
    },
    {
      "cell_type": "code",
      "source": [
        "#break up question to show both ends of spectrum, use string split with the / delimiter\n",
        "subset[['outcome_1','outcome_2']]= subset['question'].str.split('\\/', expand=True)\n",
        "\n",
        "#create new column based on if/then condition with numpy. if outcome_1 is the same as personality, use rating, else 100- rating\n",
        "subset['rating'] = np.where(subset['outcome_1'] == subset['personality'], subset['avg_rating'], 100-subset['avg_rating'])\n",
        "\n",
        "subset.head(3)"
      ],
      "metadata": {
        "id": "6zvx5tJTvqBx"
      },
      "execution_count": null,
      "outputs": []
    },
    {
      "cell_type": "markdown",
      "source": [
        "###2.2.3. Pivoting Data "
      ],
      "metadata": {
        "id": "9PoseNUzx6Ye"
      }
    },
    {
      "cell_type": "code",
      "source": [
        "pivoted = subset[['char_name','uni_name','outcome_1','rating']]\n",
        "pivoted = pivoted.pivot(index=['char_name','uni_name'], columns='outcome_1', values='rating').reset_index()\n",
        "pivoted.head(3)"
      ],
      "metadata": {
        "id": "glEsYz_cwE5T"
      },
      "execution_count": null,
      "outputs": []
    },
    {
      "cell_type": "markdown",
      "source": [
        "# What is Plotnine?\n",
        "---\n",
        "\n",
        "Plotnine is a data visualization package for Python created by **Hassan Kibirge** and is based on **[R ggplot2](https://ggplot2.tidyverse.org/)** . \n",
        "\n",
        "Like **seaborn**, plotnine was built using **matplotlib** as the plotting backbone. The package implements ***grammar of graphics*** that is very similar to ggplot2!\n",
        "\n",
        "The developer has some great documentation [here](https://plotnine.readthedocs.io/en/stable/). And for those who want to check under the hood, you can take a look at the code directly on Kibirge's [GitHub](https://github.com/has2k1/plotnine).\n",
        "\n",
        "## The Building Blocks \n",
        "\n",
        "\n",
        "* **ggplot** - how we initialize the ggplot object, optional to include data and mapping here (acts as the parent for future geoms).\n",
        "\n",
        "* **Geom Layers** - the component to our plot. We can specify type with different [geom functions](https://plotnine.readthedocs.io/en/stable/api.html#geoms), e.g. for a scatter plot we’ll use `geom_point() `and for a bar chart we can use `geom_col()` or `geom_bar()`.\n",
        "\n",
        "* **Aes** - aesthetic mapping of data variables to visual properties (e.g. x, y, color, size) in our plot. Set in `ggplot()` or individual geom layers.\n",
        "\n",
        "* **Scales** - fine tuning the details of our plots, e.g. tweaking axis limits, axis labels, color values, etc.\n",
        "\n",
        "* **Labs** - plot labelling, e.g. plot title and axis labels\n",
        "\n",
        "* **Themes** - how we can adjust the look, feel, and overall style of our plot. There are [out of the box theme options](https://plotnine.readthedocs.io/en/stable/api.html#themes), e.g. `theme_bw()` or we can create our custom theme using `theme()` and modify components within the function.\n",
        "\n",
        "\n",
        "\n"
      ],
      "metadata": {
        "id": "SUmcB7sQcvEV"
      }
    },
    {
      "cell_type": "markdown",
      "source": [
        "# 3. Bar Plot\n",
        "---\n",
        "\n",
        "## 3.1. Basic Bar Plot\n",
        "\n",
        "Let's start with a basic plot bar plot using `geom_col`. How **messy** are the characters from Friends?"
      ],
      "metadata": {
        "id": "70hipb4Nyjl2"
      }
    },
    {
      "cell_type": "code",
      "source": [
        "#create new dataframe object from our pivoted dataframe to show Friends universe\n",
        "friends = pivoted[pivoted['uni_name']==\"Friends\"]\n",
        "\n",
        "#create basic ggplot column graph"
      ],
      "metadata": {
        "id": "IIIJDc5jemsi"
      },
      "execution_count": null,
      "outputs": []
    },
    {
      "cell_type": "markdown",
      "source": [
        "## 3.2. Next Level Bar Plot\n",
        "\n",
        "We now have a basic bar plot. No surprise that **Monica Geller** is the neatest while **Joey Tribbiani** is rated as the messiest out of the group!\n",
        "\n",
        "<img src=\"https://miro.medium.com/max/500/0*ZlYIzfsxW0sEHlnh\" width=400 />\n",
        "<img src=\"https://static.independent.co.uk/s3fs-public/thumbnails/image/2018/08/30/09/joey.jpg?width=1200\" width=400 />\n",
        "\n",
        "\n",
        "Let's make it better with a few tweaks:\n",
        "\n",
        "- Reorder the bar graph to show it in order of `messy` value, use the `reorder()` function within the aesthetic mapping for x\n",
        "- Add the values as text outside of each bar with `geom_text`\n",
        "- Change the axis labels and give the plot a title with ggplot `labs`\n",
        "- Change the `fill` color in `geom_col` (grey is underwhelming!) "
      ],
      "metadata": {
        "id": "P7jaT-P-fIei"
      }
    },
    {
      "cell_type": "code",
      "source": [
        "#create next level bar plot"
      ],
      "metadata": {
        "id": "ww3aYhSCfHp8"
      },
      "execution_count": null,
      "outputs": []
    },
    {
      "cell_type": "markdown",
      "source": [
        "## 3.3. Advanced Bar Plot\n",
        "\n",
        "Let's add some lipstick to our bar plot. We can adjust the look and feel by creating our custom `theme`. \n",
        "\n",
        "For themes, we can adjust individual components with specific element types. These element types include:\n",
        "- `element_line` - modify lines, e.g. gridlines\n",
        "- `element_text` - modify text\n",
        "- `element_rect` - used for borders and backgrounds\n",
        "- `element_blank` - remove objects, e.g. remove text or gridlines\n",
        "\n",
        "We'll also use two other tricks: \n",
        "1. adjust `scale_y_continuous` to expand the y axis limit to 100 \n",
        "2.  implement ggplot `annotate` to call out an observation.\n",
        "\n",
        "**Note, there are also out-of-the-box themes that are available with default settings, you can see a list of them [here](https://plotnine.readthedocs.io/en/stable/api.html#themes).*"
      ],
      "metadata": {
        "id": "jfU88TCqhOgS"
      }
    },
    {
      "cell_type": "code",
      "source": [
        "final_bar = (ggplot(data=friends, mapping=aes(x='reorder(char_name,messy)',y='messy'))+\n",
        " #bar plot\n",
        " geom_col(fill='#12A9E9')+\n",
        " geom_text(mapping=aes(label=\"round(messy,0)\",y='messy+5'), color=\"white\")+\n",
        " #annotate can adopt a geom_text or geom_label style, we can map x and y independelty from our data\n",
        " annotate(geom=\"label\", fill=\"black\", color=\"white\", label = \"Neatness runs in \\n in the Geller family\", y=36, x=1.3)+\n",
        " #set limits with scale_y_continuous, limits stored in a list\n",
        " scale_y_continuous(limits=[0,100])+\n",
        " #to flip bar plot, we can reverse x & y mapping with coord_flip()\n",
        " coord_flip()+\n",
        " labs(x=\"\", y=\"Messiness Score (out of 100)\", title=\"FRIENDS CHARACTERS\")+\n",
        " #adjust plot style with theme\n",
        " theme(figure_size=[8,6],\n",
        "       panel_background=element_rect(fill=\"black\"),\n",
        "       plot_background = element_rect(fill=\"black\"),\n",
        "       plot_title = element_text(size=20, weight=\"bold\"),\n",
        "       axis_text_y= element_text(size=10, va=\"center\"),\n",
        "       text = element_text(color=\"white\", family=\"Chivo\"),\n",
        "       panel_grid = element_blank(),\n",
        "       panel_grid_major_x = element_line(color=\"grey\", alpha=0.6)\n",
        "      )\n",
        ")\n",
        "\n",
        "final_bar\n",
        "\n",
        "#to save ggplot uncomment code below (if working on local directory). dpi used to adjust resolution.\n",
        "#ggsave(plot=final_bar, filename='friends_bar_plot.png', dpi=300)"
      ],
      "metadata": {
        "id": "vwcuaDFly4Hq"
      },
      "execution_count": null,
      "outputs": []
    },
    {
      "cell_type": "markdown",
      "source": [
        "# 4. Scatter Plot\n",
        "---\n",
        "\n",
        "Scatter plots are a great way of visualizing relationships between two continuous variables. We create a scatter plot with `geom_point`.\n",
        "\n",
        "For this example, let's take a look at **Game of Thrones** characters and compare ratings for altruisim vs. cunningness. We'll create a new field, *house*, based on characters last name.\n",
        "\n",
        "<figure align=\"center\">\n",
        "<img src=\"https://watchersonthewall.com/wp-content/uploads/2017/08/707-Kings-Landing-Dragonpit-Brienne-Jaime-1.jpg\" width=400>\n",
        "<figcaption>On that note, I will never understand the friendship between these two - Jamie Lannister and Brienne of Tarth. </figcaption>\n",
        "</figure>"
      ],
      "metadata": {
        "id": "iu2Zi-woiess"
      }
    },
    {
      "cell_type": "code",
      "source": [
        "#get rows only for Game of Thrones characters\n",
        "got = pivoted[pivoted['uni_name']==\"Game of Thrones\"]\n",
        "#create new column for House (based on last name)\n",
        "main_houses = ['Stark','Lannister','Greyjoy','Targaryen','Baratheon']\n",
        "got['house']= [name.split(\" \")[-1] for name in got['char_name']]\n",
        "got['house'] = np.where(got['house'].isin(main_houses), got['house'],np.nan)\n",
        "#create first name for plot labels later\n",
        "got['first_name']= [name.split(\" \")[0] for name in got['char_name']]\n",
        "\n",
        "got.head(3)"
      ],
      "metadata": {
        "id": "gn2PBc2cxxGM"
      },
      "execution_count": null,
      "outputs": []
    },
    {
      "cell_type": "markdown",
      "source": [
        "## 4.1. Basic Scatter Plot\n",
        "\n",
        "Using `geom_point`, plot the rating values for *cunning* and *alruistic* characteristics. Set the fill value to a character's *house*."
      ],
      "metadata": {
        "id": "sDjSQVxmW-4l"
      }
    },
    {
      "cell_type": "code",
      "source": [
        "#create a basic scatter plot"
      ],
      "metadata": {
        "id": "hOy47BW8WqIt"
      },
      "execution_count": null,
      "outputs": []
    },
    {
      "cell_type": "markdown",
      "source": [
        "## 4.2. Next Level Scatter Plot\n",
        "\n",
        "Now to make some adjustments. In this step let's make the following changes:\n",
        "\n",
        "- Adjust the x and y axis to show limits from 0-100 with `scale_x_continuous` and `scale_y_continuous`\n",
        "- Change the size to map it to *genius* characteristic (invert by mapping to 100-*dunce*)\n",
        "- Modify size scale with new ranges and breaks `scale_size_continuous`\n",
        "- Switch up the fill colors (`scale_fill_manual`).\n",
        "\n",
        "You are welcome to modify the colors to any select list. For this example, I've used [Coolors](https://coolors.co/) palette generator. To make it simple you can copy the following: \"#ef476f\",\"#ffd166\",\"#06d6a0\",\"#118ab2\",\"#073b4c\""
      ],
      "metadata": {
        "id": "K8X2hK9VXICy"
      }
    },
    {
      "cell_type": "code",
      "source": [
        "#create next level scatter plot"
      ],
      "metadata": {
        "id": "3BuPIBAyXGQM"
      },
      "execution_count": null,
      "outputs": []
    },
    {
      "cell_type": "markdown",
      "source": [
        "## 4.3. Advanced Scatter Plot\n",
        "\n",
        "Example of how to level it up with a few more tweaks."
      ],
      "metadata": {
        "id": "X-ImkSYXXQ3Z"
      }
    },
    {
      "cell_type": "code",
      "source": [
        "got_sub = got[got['char_name'].isin(['Joffrey Baratheon','Arya Stark','Brienne of Tarth'])]\n",
        "\n",
        "scatter_final = (ggplot(got, aes(x='cunning',y='altruistic', fill=\"house\"))+\n",
        " #create cross lines with geom_hline and geom_vline\n",
        " geom_hline(yintercept=50)+\n",
        " geom_vline(xintercept=50)+\n",
        " #annotate using labels for extreme ends of axis\n",
        " annotate(geom = \"label\", label = \"Cunning\", x=95, y=50)+\n",
        " annotate(geom = \"label\", label = \"Honorable\", x=5, y=50)+\n",
        " annotate(geom = \"label\", label = \"Altruistic\", x=50, y=95, ha=\"center\")+\n",
        " annotate(geom = \"label\", label = \"Selfish\", x=50, y=5, ha=\"center\")+\n",
        " #scatter plot\n",
        " geom_point(mapping=aes(size=\"100-dunce\"), alpha=0.6, color=\"white\")+\n",
        " #text for specific characters\n",
        " geom_text(data=got_sub, mapping=aes(x=\"cunning-1\",y=\"altruistic+3.5\", label=\"first_name\"), inherit_aes=False)+\n",
        " #adjust scale limits 0-100 for each axis\n",
        " scale_y_continuous(limits=[0,100])+\n",
        " scale_x_continuous(limits=[0,100])+\n",
        " #adjust scale size and fill values\n",
        " scale_size_continuous(range=[4,12], breaks=[10,20,40,60,80])+\n",
        " scale_fill_manual(values=[\"#ef476f\",\"#ffd166\",\"#06d6a0\",\"#118ab2\",\"#073b4c\"], na_value=\"grey\",\n",
        "                   labels=['Baratheon','Greyjoy',\"Lannister\",\"Stark\",\"Targaryen\",\"Other\"])+\n",
        " #tweak legend with guides\n",
        " guides(\n",
        "     size = guide_legend(override_aes={'color':'black', 'fill':'white'}),\n",
        "     fill = guide_legend(override_aes={'size':5})\n",
        " )+\n",
        " #plot labels\n",
        " labs(size=\"Genius Rating\", \n",
        "      fill=\"House\", \n",
        "      title=\"Game of Thrones Personality Matrix\", \n",
        "      caption=\"Data from Open-Source Psychometrics Project\",\n",
        "      y=\"Selfish/Altruistic\", x=\"Honorable/Cunning\")+\n",
        " #themes\n",
        " theme(figure_size = [8,6],\n",
        "       legend_position=\"right\",\n",
        "       legend_key=element_blank(),\n",
        "       legend_text_legend = element_text(size=10),\n",
        "       panel_background = element_rect(fill=\"white\"),\n",
        "       text = element_text(family=\"Chivo\"),\n",
        "       panel_grid = element_line(color=\"grey\", size=.2))\n",
        ")\n",
        "\n",
        "scatter_final\n",
        "\n",
        "#to save ggplot uncomment code below (if working on local directory). dpi used to adjust resolution.\n",
        "#ggsave(plot=scatter_final, filename='got_scatter_plot.png', dpi=300)"
      ],
      "metadata": {
        "id": "zB4H6XSOiY63"
      },
      "execution_count": 2,
      "outputs": []
    },
    {
      "cell_type": "markdown",
      "source": [
        "# 5. Density Plot & Facetting\n",
        "---\n",
        "\n",
        "What if we wanted to create a plot and pivot it by a specific dimension? With some data visualization libraries, you might have to create a loop to generate each plot. With ggplot, we can implement `facet_wrap` to automatically *pivot* our plots. \n",
        "\n",
        "<figure align=\"center\">\n",
        "<img src=\"https://c.tenor.com/KM08WXoXpjgAAAAM/friends-ross.gif\" \n",
        "width=400>\n",
        "<figcaption>I just can't get enough of Friends...Ross Geller and the infamous \"pivot\" scene. </figcaption>\n",
        "</figure>\n",
        "\n",
        "Let's try it out with our original **subset** dataset. What does the distribution of ratings look for each variable?"
      ],
      "metadata": {
        "id": "C5mZlYWNu1z1"
      }
    },
    {
      "cell_type": "code",
      "source": [
        "#use subset data to visualize the distribution of scores for different characteristics"
      ],
      "metadata": {
        "id": "IGzcGIUv2Cao"
      },
      "execution_count": null,
      "outputs": []
    },
    {
      "cell_type": "markdown",
      "source": [
        "# Try Your Own Plots\n",
        "---\n",
        "And that's a wrap! But don't stop here, this is just the beginning.\n",
        "\n",
        "Using the dataset from our workshop, create your own plot with plotnine. \n",
        "\n",
        "There are tons of different geoms to explore outside of the ones we used today, you can see the full list [here](https://plotnine.readthedocs.io/en/stable/api.html#geoms)."
      ],
      "metadata": {
        "id": "_-EA6wpCw2XJ"
      }
    },
    {
      "cell_type": "code",
      "source": [
        "#create your own plot"
      ],
      "metadata": {
        "id": "V6eaGguRxNgX"
      },
      "execution_count": null,
      "outputs": []
    }
  ]
}